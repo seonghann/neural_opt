{
 "cells": [
  {
   "cell_type": "code",
   "execution_count": 1,
   "metadata": {},
   "outputs": [],
   "source": [
    "import pandas as pd\n",
    "import matplotlib.pyplot as plt\n",
    "import numpy as np"
   ]
  },
  {
   "cell_type": "markdown",
   "metadata": {},
   "source": [
    "# Find proper DFT calculation options\n",
    "\n",
    "### Objective : \n",
    "\n",
    "By re-optimizing the reference QM9 molecules which lie in equilibrium states, check the calculation option is consistent with the reference one.\n",
    "\n",
    "### Experiment and Results :\n",
    "\n",
    "1. re-optimize randomly selected 1K samples from 10K test dataset\n",
    "2. Check the reference structure is equilibrium with respect to the DFT calculation option.\n",
    "    - Check structural difference (DMAE, RMSD)\n",
    "    - Check energy difference\n",
    "\n",
    "### Conclusion :\n",
    "\n",
    "The DFT calculation option we used is quite exact except for some execptional cases.\n",
    "\n",
    "```B3LYP/6-31G(2df,p) opt(calcfc, maxstep=5, maxcycles=1000) integral(grid=ultrafine) scf(maxcycle=200, verytight) freq```\n",
    "\n",
    "We considered the two state is indistinguishible if energy gap and DMAE are less than 0.1 kcal/mol and 0.01 $\\AA$ respectively.\n",
    "\n",
    "Under the criteria, the results show consistency over 99% of the testing samples."
   ]
  },
  {
   "cell_type": "code",
   "execution_count": 2,
   "metadata": {},
   "outputs": [
    {
     "data": {
      "text/html": [
       "<div>\n",
       "<style scoped>\n",
       "    .dataframe tbody tr th:only-of-type {\n",
       "        vertical-align: middle;\n",
       "    }\n",
       "\n",
       "    .dataframe tbody tr th {\n",
       "        vertical-align: top;\n",
       "    }\n",
       "\n",
       "    .dataframe thead th {\n",
       "        text-align: right;\n",
       "    }\n",
       "</style>\n",
       "<table border=\"1\" class=\"dataframe\">\n",
       "  <thead>\n",
       "    <tr style=\"text-align: right;\">\n",
       "      <th></th>\n",
       "      <th>Unnamed: 0</th>\n",
       "      <th>idx</th>\n",
       "      <th>rmsd</th>\n",
       "      <th>dmae</th>\n",
       "      <th>energy_diff</th>\n",
       "      <th>abs_energy_diff</th>\n",
       "    </tr>\n",
       "  </thead>\n",
       "  <tbody>\n",
       "    <tr>\n",
       "      <th>0</th>\n",
       "      <td>0</td>\n",
       "      <td>867</td>\n",
       "      <td>4.486634e-07</td>\n",
       "      <td>3.052261e-07</td>\n",
       "      <td>0.000000</td>\n",
       "      <td>0.000000</td>\n",
       "    </tr>\n",
       "    <tr>\n",
       "      <th>1</th>\n",
       "      <td>1</td>\n",
       "      <td>868</td>\n",
       "      <td>1.921577e-03</td>\n",
       "      <td>6.753392e-04</td>\n",
       "      <td>0.000011</td>\n",
       "      <td>0.000011</td>\n",
       "    </tr>\n",
       "    <tr>\n",
       "      <th>2</th>\n",
       "      <td>2</td>\n",
       "      <td>89</td>\n",
       "      <td>5.784568e-03</td>\n",
       "      <td>2.068238e-03</td>\n",
       "      <td>0.000022</td>\n",
       "      <td>0.000022</td>\n",
       "    </tr>\n",
       "    <tr>\n",
       "      <th>3</th>\n",
       "      <td>3</td>\n",
       "      <td>910</td>\n",
       "      <td>8.040796e-03</td>\n",
       "      <td>2.688415e-03</td>\n",
       "      <td>0.000045</td>\n",
       "      <td>0.000045</td>\n",
       "    </tr>\n",
       "    <tr>\n",
       "      <th>4</th>\n",
       "      <td>4</td>\n",
       "      <td>929</td>\n",
       "      <td>1.012451e-03</td>\n",
       "      <td>4.113433e-04</td>\n",
       "      <td>0.000008</td>\n",
       "      <td>0.000008</td>\n",
       "    </tr>\n",
       "    <tr>\n",
       "      <th>...</th>\n",
       "      <td>...</td>\n",
       "      <td>...</td>\n",
       "      <td>...</td>\n",
       "      <td>...</td>\n",
       "      <td>...</td>\n",
       "      <td>...</td>\n",
       "    </tr>\n",
       "    <tr>\n",
       "      <th>995</th>\n",
       "      <td>995</td>\n",
       "      <td>14212</td>\n",
       "      <td>6.035337e-03</td>\n",
       "      <td>2.020711e-03</td>\n",
       "      <td>0.000024</td>\n",
       "      <td>0.000024</td>\n",
       "    </tr>\n",
       "    <tr>\n",
       "      <th>996</th>\n",
       "      <td>996</td>\n",
       "      <td>1031</td>\n",
       "      <td>3.439910e-03</td>\n",
       "      <td>8.642324e-04</td>\n",
       "      <td>0.000012</td>\n",
       "      <td>0.000012</td>\n",
       "    </tr>\n",
       "    <tr>\n",
       "      <th>997</th>\n",
       "      <td>997</td>\n",
       "      <td>106</td>\n",
       "      <td>3.863926e-03</td>\n",
       "      <td>1.666320e-03</td>\n",
       "      <td>0.000023</td>\n",
       "      <td>0.000023</td>\n",
       "    </tr>\n",
       "    <tr>\n",
       "      <th>998</th>\n",
       "      <td>998</td>\n",
       "      <td>1064</td>\n",
       "      <td>1.085112e-03</td>\n",
       "      <td>2.459349e-04</td>\n",
       "      <td>0.000003</td>\n",
       "      <td>0.000003</td>\n",
       "    </tr>\n",
       "    <tr>\n",
       "      <th>999</th>\n",
       "      <td>999</td>\n",
       "      <td>1075</td>\n",
       "      <td>4.918001e-03</td>\n",
       "      <td>1.436743e-03</td>\n",
       "      <td>0.000022</td>\n",
       "      <td>0.000022</td>\n",
       "    </tr>\n",
       "  </tbody>\n",
       "</table>\n",
       "<p>1000 rows × 6 columns</p>\n",
       "</div>"
      ],
      "text/plain": [
       "     Unnamed: 0    idx          rmsd          dmae  energy_diff  \\\n",
       "0             0    867  4.486634e-07  3.052261e-07     0.000000   \n",
       "1             1    868  1.921577e-03  6.753392e-04     0.000011   \n",
       "2             2     89  5.784568e-03  2.068238e-03     0.000022   \n",
       "3             3    910  8.040796e-03  2.688415e-03     0.000045   \n",
       "4             4    929  1.012451e-03  4.113433e-04     0.000008   \n",
       "..          ...    ...           ...           ...          ...   \n",
       "995         995  14212  6.035337e-03  2.020711e-03     0.000024   \n",
       "996         996   1031  3.439910e-03  8.642324e-04     0.000012   \n",
       "997         997    106  3.863926e-03  1.666320e-03     0.000023   \n",
       "998         998   1064  1.085112e-03  2.459349e-04     0.000003   \n",
       "999         999   1075  4.918001e-03  1.436743e-03     0.000022   \n",
       "\n",
       "     abs_energy_diff  \n",
       "0           0.000000  \n",
       "1           0.000011  \n",
       "2           0.000022  \n",
       "3           0.000045  \n",
       "4           0.000008  \n",
       "..               ...  \n",
       "995         0.000024  \n",
       "996         0.000012  \n",
       "997         0.000023  \n",
       "998         0.000003  \n",
       "999         0.000022  \n",
       "\n",
       "[1000 rows x 6 columns]"
      ]
     },
     "execution_count": 2,
     "metadata": {},
     "output_type": "execute_result"
    }
   ],
   "source": [
    "data = pd.read_csv(\"/home/share/DATA/QM9M/MMFFtoDFT_input/results/DFT_reopt/reopt_results.csv\")\n",
    "data"
   ]
  },
  {
   "cell_type": "code",
   "execution_count": null,
   "metadata": {},
   "outputs": [],
   "source": []
  },
  {
   "cell_type": "markdown",
   "metadata": {},
   "source": [
    "### Energy difference"
   ]
  },
  {
   "cell_type": "code",
   "execution_count": 3,
   "metadata": {},
   "outputs": [
    {
     "name": "stdout",
     "output_type": "stream",
     "text": [
      "energy difference statistics (kcal/mol)\n",
      "max: \t3.3967\n",
      "mean: \t0.0039\n",
      "Q1: \t0.0001\n",
      "Q2: \t0.0002\n",
      "Q3: \t0.0005\n"
     ]
    },
    {
     "name": "stderr",
     "output_type": "stream",
     "text": [
      "/home/ksh/.conda/envs/tsdiff/lib/python3.7/site-packages/ipykernel_launcher.py:31: RuntimeWarning: invalid value encountered in log10\n",
      "/home/ksh/.conda/envs/tsdiff/lib/python3.7/site-packages/ipykernel_launcher.py:32: RuntimeWarning: invalid value encountered in log10\n"
     ]
    },
    {
     "data": {
      "text/plain": [
       "<matplotlib.legend.Legend at 0x7f013dd4efd0>"
      ]
     },
     "execution_count": 3,
     "metadata": {},
     "output_type": "execute_result"
    },
    {
     "data": {
      "image/png": "[encoded data removed]",
      "text/plain": [
       "<Figure size 1152x432 with 2 Axes>"
      ]
     },
     "metadata": {
      "needs_background": "light"
     },
     "output_type": "display_data"
    }
   ],
   "source": [
    "energy_diff = data[\"energy_diff\"].to_numpy()\n",
    "eVtokcalmol = 23.0609\n",
    "# draw box plot\n",
    "# remove outliers (energy gap over than 0.1)\n",
    "# y-axis scale should be log scale\n",
    "\n",
    "energy_diff = energy_diff * eVtokcalmol\n",
    "\n",
    "fig = plt.figure(figsize=(16, 6))\n",
    "# fontsize = 20\n",
    "plt.rcParams.update({'font.size': 20})\n",
    "axes = fig.subplots(1, 2)\n",
    "ax = axes[0]\n",
    "ax.boxplot(energy_diff)\n",
    "ax.set_yscale(\"log\")\n",
    "ax.set_ylabel(\"$\\\\vert \\\\Delta E \\\\vert$ (kcal/mol)\")\n",
    "\n",
    "# print first quartile, median, third quartile\n",
    "print(\"energy difference statistics (kcal/mol)\")\n",
    "print(f\"max: \\t{pd.Series(energy_diff).max():.4f}\")\n",
    "print(f\"mean: \\t{pd.Series(energy_diff).mean():.4f}\")\n",
    "print(f\"Q1: \\t{pd.Series(energy_diff).quantile(0.25):.4f}\")\n",
    "print(f\"Q2: \\t{pd.Series(energy_diff).quantile(0.5):.4f}\")\n",
    "print(f\"Q3: \\t{pd.Series(energy_diff).quantile(0.75):.4f}\")\n",
    "\n",
    "# plot cumulative distribution of energy_diff\n",
    "ax = axes[1]\n",
    "\n",
    "# exclude outliers\n",
    "energy_diff = energy_diff[energy_diff < 0.1]\n",
    "ax.hist(np.log10(energy_diff + 1e-10), bins=100, cumulative=True, histtype=\"step\", density=True, label=\"CDF\")\n",
    "ax.hist(np.log10(energy_diff + 1e-10), bins=100, cumulative=False, histtype=\"step\", density=True, label=\"PDF\")\n",
    "# ax.set_xscale(\"log\")\n",
    "ax.set_xlabel(\"$\\\\log_{10} (\\\\vert \\\\Delta E \\\\vert)$ (kcal/mol)\")\n",
    "ax.legend()"
   ]
  },
  {
   "cell_type": "markdown",
   "metadata": {},
   "source": [
    "### Structural difference"
   ]
  },
  {
   "cell_type": "code",
   "execution_count": 4,
   "metadata": {},
   "outputs": [
    {
     "name": "stdout",
     "output_type": "stream",
     "text": [
      "DMAE difference statistics (Angstrom)\n",
      "max: \t0.1072\n",
      "mean: \t0.0014\n",
      "Q1: \t0.0004\n",
      "Q2: \t0.0007\n",
      "Q3: \t0.0013\n"
     ]
    },
    {
     "data": {
      "text/plain": [
       "<matplotlib.legend.Legend at 0x7f013c946b50>"
      ]
     },
     "execution_count": 4,
     "metadata": {},
     "output_type": "execute_result"
    },
    {
     "data": {
      "image/png": "[encoded data removed]",
      "text/plain": [
       "<Figure size 1152x432 with 2 Axes>"
      ]
     },
     "metadata": {
      "needs_background": "light"
     },
     "output_type": "display_data"
    }
   ],
   "source": [
    "dmae = data[\"dmae\"].to_numpy()\n",
    "\n",
    "fig = plt.figure(figsize=(16, 6))\n",
    "# fontsize = 20\n",
    "plt.rcParams.update({'font.size': 20})\n",
    "\n",
    "axes = fig.subplots(1, 2)\n",
    "ax = axes[0]\n",
    "ax.boxplot(dmae)\n",
    "ax.set_yscale(\"log\")\n",
    "ax.set_ylabel(\"DMAE ($\\\\AA$)\")\n",
    "\n",
    "# print first quartile, median, third quartile\n",
    "print(\"DMAE difference statistics (Angstrom)\")\n",
    "print(f\"max: \\t{pd.Series(dmae).max():.4f}\")\n",
    "print(f\"mean: \\t{pd.Series(dmae).mean():.4f}\")\n",
    "print(f\"Q1: \\t{pd.Series(dmae).quantile(0.25):.4f}\")\n",
    "print(f\"Q2: \\t{pd.Series(dmae).quantile(0.5):.4f}\")\n",
    "print(f\"Q3: \\t{pd.Series(dmae).quantile(0.75):.4f}\")\n",
    "\n",
    "# plot cumulative distribution of dmae\n",
    "ax = axes[1]\n",
    "_ = ax.hist(np.log10(dmae), bins=10000, cumulative=True, density=True, histtype=\"step\", label=\"CDF\")\n",
    "_ = ax.hist(np.log10(dmae), bins=100, cumulative=False, density=True, histtype=\"step\", label=\"PDF\")\n",
    "ax.set_xlabel(\"$\\\\log_{10} (DMAE)$ ($\\\\AA$)\")\n",
    "ax.legend()"
   ]
  },
  {
   "cell_type": "markdown",
   "metadata": {},
   "source": [
    "## Check the cases optimization leads increasing energy\n",
    "\n",
    "There were only 3 cases, and the increments were trivial.\n",
    "\n",
    "Also, the iteration of optimiztion is 2, which means that the given geometry is already equilibrium geometry."
   ]
  },
  {
   "cell_type": "code",
   "execution_count": 5,
   "metadata": {},
   "outputs": [
    {
     "name": "stdout",
     "output_type": "stream",
     "text": [
      "384     7019\n",
      "530      167\n",
      "831    11955\n",
      "Name: idx, dtype: int64\n",
      "384   -0.000012\n",
      "530   -0.000003\n",
      "831   -0.000007\n",
      "Name: energy_diff, dtype: float64\n",
      "384   -0.000012\n",
      "530   -0.000003\n",
      "831   -0.000007\n",
      "Name: energy_diff, dtype: float64\n",
      "384   -0.000012\n",
      "530   -0.000003\n",
      "831   -0.000007\n",
      "Name: energy_diff, dtype: float64\n"
     ]
    }
   ],
   "source": [
    "print(data[\"idx\"][data.energy_diff < 0])\n",
    "print(data[\"energy_diff\"][data.energy_diff < 0])\n",
    "print(data[\"energy_diff\"][data.energy_diff < 0])\n",
    "print(data[\"energy_diff\"][data.energy_diff < 0])"
   ]
  },
  {
   "cell_type": "code",
   "execution_count": null,
   "metadata": {},
   "outputs": [],
   "source": []
  },
  {
   "cell_type": "markdown",
   "metadata": {},
   "source": [
    "# Compare unrestricted DFT calculation"
   ]
  },
  {
   "cell_type": "markdown",
   "metadata": {},
   "source": [
    "### Experiments and Results :\n",
    "\n",
    "For some exceptional cases where the re-optimized structure is not consistent, we do optimize it with different option : using the unrestricted SCF calculation.\n",
    "\n",
    "### Conclusion : \n",
    "\n",
    "The results saying that unrestricted option does not affect in energy difference and optimization results"
   ]
  },
  {
   "cell_type": "code",
   "execution_count": 6,
   "metadata": {},
   "outputs": [
    {
     "data": {
      "text/plain": [
       "89"
      ]
     },
     "execution_count": 6,
     "metadata": {},
     "output_type": "execute_result"
    }
   ],
   "source": [
    "def get_mask(data, key, thresh):\n",
    "    mask = data[key] > thresh\n",
    "    return mask\n",
    "\n",
    "dmae_mask = get_mask(data, \"dmae\", 0.01)\n",
    "rmsd_mask = get_mask(data, \"rmsd\", 0.01)\n",
    "mask = dmae_mask | rmsd_mask\n",
    "\n",
    "len(data[mask][\"idx\"].tolist())"
   ]
  },
  {
   "cell_type": "code",
   "execution_count": 8,
   "metadata": {},
   "outputs": [],
   "source": [
    "unrest_data = pd.read_csv(\"/home/share/DATA/QM9M/MMFFtoDFT_input/results/DFT_reopt/reopt_unrestricted_results.csv\")\n",
    "\n",
    "# gather indexes of the data except for the data with energy_diff is nan\n",
    "check_index = unrest_data[\"energy_diff\"].notnull()\n",
    "check_index = unrest_data[check_index][\"idx\"].tolist()\n",
    "\n",
    "unrest_data = unrest_data[unrest_data[\"idx\"].isin(check_index)]\n",
    "unrest_data = unrest_data.sort_values(\"idx\")"
   ]
  },
  {
   "cell_type": "code",
   "execution_count": 9,
   "metadata": {},
   "outputs": [],
   "source": [
    "# gather the raw data with the indexes\n",
    "raw_data = data\n",
    "raw_data = raw_data[raw_data[\"idx\"].isin(check_index)]\n",
    "\n",
    "# sort the data by idx\n",
    "raw_data = raw_data.sort_values(\"idx\")"
   ]
  },
  {
   "cell_type": "code",
   "execution_count": 10,
   "metadata": {},
   "outputs": [
    {
     "name": "stdout",
     "output_type": "stream",
     "text": [
      "energy_diff\n",
      "[ 0.00000000e+00  0.00000000e+00  0.00000000e+00  0.00000000e+00\n",
      "  0.00000000e+00  0.00000000e+00  0.00000000e+00  0.00000000e+00\n",
      "  0.00000000e+00  0.00000000e+00  0.00000000e+00  0.00000000e+00\n",
      "  0.00000000e+00  0.00000000e+00  0.00000000e+00 -2.72111720e-08\n",
      "  0.00000000e+00  0.00000000e+00  0.00000000e+00  0.00000000e+00\n",
      "  0.00000000e+00  0.00000000e+00  0.00000000e+00  0.00000000e+00\n",
      "  0.00000000e+00  0.00000000e+00  0.00000000e+00  0.00000000e+00\n",
      "  0.00000000e+00  0.00000000e+00  0.00000000e+00  0.00000000e+00\n",
      "  0.00000000e+00  0.00000000e+00  0.00000000e+00  0.00000000e+00\n",
      "  0.00000000e+00  0.00000000e+00  0.00000000e+00  0.00000000e+00\n",
      "  0.00000000e+00  0.00000000e+00  0.00000000e+00  0.00000000e+00\n",
      "  0.00000000e+00  0.00000000e+00  0.00000000e+00  0.00000000e+00\n",
      "  0.00000000e+00  0.00000000e+00  0.00000000e+00  0.00000000e+00\n",
      "  0.00000000e+00  0.00000000e+00  6.61236645e-05  0.00000000e+00\n",
      "  0.00000000e+00  0.00000000e+00  0.00000000e+00  0.00000000e+00\n",
      "  0.00000000e+00  0.00000000e+00  0.00000000e+00  0.00000000e+00\n",
      "  0.00000000e+00  0.00000000e+00  0.00000000e+00  0.00000000e+00\n",
      "  0.00000000e+00  0.00000000e+00  0.00000000e+00  0.00000000e+00\n",
      "  0.00000000e+00  0.00000000e+00  0.00000000e+00  0.00000000e+00\n",
      "  0.00000000e+00  0.00000000e+00  0.00000000e+00  0.00000000e+00\n",
      "  0.00000000e+00  0.00000000e+00  0.00000000e+00  0.00000000e+00\n",
      "  0.00000000e+00  0.00000000e+00]\n",
      "dmae\n",
      "[ 0.00000000e+00  0.00000000e+00  0.00000000e+00  0.00000000e+00\n",
      "  0.00000000e+00  0.00000000e+00  0.00000000e+00  0.00000000e+00\n",
      "  0.00000000e+00  0.00000000e+00  0.00000000e+00  0.00000000e+00\n",
      "  0.00000000e+00  0.00000000e+00  0.00000000e+00  0.00000000e+00\n",
      "  0.00000000e+00  0.00000000e+00  0.00000000e+00  0.00000000e+00\n",
      "  0.00000000e+00  0.00000000e+00  0.00000000e+00  0.00000000e+00\n",
      "  0.00000000e+00  0.00000000e+00  0.00000000e+00  0.00000000e+00\n",
      "  0.00000000e+00  0.00000000e+00  0.00000000e+00  0.00000000e+00\n",
      "  0.00000000e+00  0.00000000e+00  0.00000000e+00  0.00000000e+00\n",
      "  4.38139101e-08  0.00000000e+00  0.00000000e+00  0.00000000e+00\n",
      "  0.00000000e+00  0.00000000e+00  0.00000000e+00  0.00000000e+00\n",
      "  0.00000000e+00  0.00000000e+00  0.00000000e+00  0.00000000e+00\n",
      "  0.00000000e+00  0.00000000e+00 -7.08819785e-08  0.00000000e+00\n",
      "  0.00000000e+00  0.00000000e+00  2.90639870e-03  0.00000000e+00\n",
      "  0.00000000e+00  0.00000000e+00  0.00000000e+00  0.00000000e+00\n",
      "  0.00000000e+00  0.00000000e+00  0.00000000e+00  0.00000000e+00\n",
      "  0.00000000e+00  0.00000000e+00  0.00000000e+00  0.00000000e+00\n",
      "  0.00000000e+00  0.00000000e+00  0.00000000e+00  0.00000000e+00\n",
      "  0.00000000e+00  0.00000000e+00 -1.32983692e-09  0.00000000e+00\n",
      "  0.00000000e+00  0.00000000e+00  0.00000000e+00  0.00000000e+00\n",
      "  0.00000000e+00  0.00000000e+00  0.00000000e+00  0.00000000e+00\n",
      "  0.00000000e+00  0.00000000e+00]\n",
      "rmsd\n",
      "[ 0.00000000e+00  0.00000000e+00  0.00000000e+00  0.00000000e+00\n",
      "  0.00000000e+00  0.00000000e+00  0.00000000e+00  0.00000000e+00\n",
      "  0.00000000e+00  0.00000000e+00  0.00000000e+00  0.00000000e+00\n",
      "  0.00000000e+00  0.00000000e+00  0.00000000e+00  0.00000000e+00\n",
      "  0.00000000e+00  0.00000000e+00  0.00000000e+00  0.00000000e+00\n",
      "  0.00000000e+00  0.00000000e+00  0.00000000e+00  0.00000000e+00\n",
      "  0.00000000e+00  0.00000000e+00  0.00000000e+00  0.00000000e+00\n",
      "  0.00000000e+00  0.00000000e+00  0.00000000e+00  0.00000000e+00\n",
      "  0.00000000e+00  0.00000000e+00  0.00000000e+00  0.00000000e+00\n",
      "  2.24225978e-07  0.00000000e+00  0.00000000e+00  0.00000000e+00\n",
      "  0.00000000e+00  0.00000000e+00  0.00000000e+00  0.00000000e+00\n",
      "  0.00000000e+00  0.00000000e+00  0.00000000e+00  0.00000000e+00\n",
      "  0.00000000e+00  0.00000000e+00 -3.08257476e-07  0.00000000e+00\n",
      "  0.00000000e+00  0.00000000e+00  1.13899481e-02  0.00000000e+00\n",
      "  0.00000000e+00  0.00000000e+00  0.00000000e+00  0.00000000e+00\n",
      "  0.00000000e+00  0.00000000e+00  0.00000000e+00  0.00000000e+00\n",
      "  0.00000000e+00  0.00000000e+00  0.00000000e+00  0.00000000e+00\n",
      "  0.00000000e+00  0.00000000e+00  0.00000000e+00  0.00000000e+00\n",
      "  0.00000000e+00  0.00000000e+00  3.54475864e-07  0.00000000e+00\n",
      "  0.00000000e+00  0.00000000e+00  0.00000000e+00  0.00000000e+00\n",
      "  0.00000000e+00  0.00000000e+00  0.00000000e+00  0.00000000e+00\n",
      "  0.00000000e+00  0.00000000e+00]\n"
     ]
    }
   ],
   "source": [
    "for K in [\"energy_diff\", \"dmae\", \"rmsd\"]:\n",
    "    print(K)\n",
    "    print(raw_data[K].to_numpy() - unrest_data[K].to_numpy())"
   ]
  }
 ],
 "metadata": {
  "kernelspec": {
   "display_name": "tsdiff",
   "language": "python",
   "name": "python3"
  },
  "language_info": {
   "codemirror_mode": {
    "name": "ipython",
    "version": 3
   },
   "file_extension": ".py",
   "mimetype": "text/x-python",
   "name": "python",
   "nbconvert_exporter": "python",
   "pygments_lexer": "ipython3",
   "version": "3.7.10"
  }
 },
 "nbformat": 4,
 "nbformat_minor": 2
}
