{
 "cells": [
  {
   "cell_type": "code",
   "execution_count": 28,
   "metadata": {},
   "outputs": [],
   "source": [
    "import pandas as pd\n",
    "import numpy as np\n",
    "import matplotlib.pyplot as plt\n",
    "import seaborn as sns\n",
    "import json\n",
    "from scipy.stats import pearsonr\n",
    "from ase import Atoms"
   ]
  },
  {
   "cell_type": "code",
   "execution_count": 11,
   "metadata": {},
   "outputs": [],
   "source": [
    "# json file read. (MMFFstructure optimization, Modelstructure optimization)\n",
    "# check the optimization converges to the same structure.\n",
    "# then \n",
    "# 1) check the number of optimization steps between MMFF and Model.\n",
    "# 2) check the number of SCF steps between MMFF and Model.\n",
    "# 3) check the total cpu time between MMFF and Model.\n",
    "\n"
   ]
  },
  {
   "cell_type": "code",
   "execution_count": 39,
   "metadata": {},
   "outputs": [],
   "source": [
    "json_file = \"/home/share/DATA/NeuralOpt/QM9M_results/save_xyz.morse.128steps/results/randomly_select/initial/calculation_log/idx110/input.json\"\n",
    "log_file = \"/home/share/DATA/NeuralOpt/QM9M_results/save_xyz.morse.128steps/results/randomly_select/initial/calculation_log/idx110/input.log\"\n",
    "\n",
    "def read_log(json_file, log_file):\n",
    "    import json\n",
    "    with open(json_file) as f:\n",
    "        json_data = json.load(f)\n",
    "    # check json file\n",
    "    opt_done = json_data[\"optimization\"][\"done\"]\n",
    "    print(json_data[\"optimization\"])\n",
    "    scf_energies = json_data[\"optimization\"][\"scf energies\"]\n",
    "    xyz = np.array(json_data[\"atoms\"][\"coords\"][\"3d\"]).reshape(-1, 3)\n",
    "    symb = json_data[\"atoms\"][\"elements\"][\"number\"]\n",
    "    atoms = Atoms(symbols=symb, positions=xyz)\n",
    "    \n",
    "    data = {\"opt_done\": opt_done, \"scf_energies\": scf_energies, \"atoms\": atoms}\n",
    "    \n",
    "    # check log file\n",
    "    with open(log_file) as f:\n",
    "        lines = f.readlines()\n",
    "    # the index of SCF info line\n",
    "    line_index = [i for i, line in enumerate(lines) if \"SCF Done\" in line]\n",
    "    # number of scf cycles\n",
    "    scf_cycles = []\n",
    "    scf_cpu_times = []\n",
    "    for i in line_index:\n",
    "        line = lines[i]\n",
    "        comp = line.strip().split()\n",
    "        assert comp[-1] == \"cycles\"\n",
    "        assert lines[i+3].strip().split()[-2] == \"cpu:\"\n",
    "        \n",
    "        n_cycle = int(comp[-2])\n",
    "        cpu_time = float(lines[i+3].strip().split()[-1])\n",
    "        scf_cycles.append(n_cycle)\n",
    "        scf_cpu_times.append(cpu_time)\n",
    "        \n",
    "    line = lines[-3]\n",
    "    # line = \"Job cpu time:       0 days  0 hours 33 minutes  0.7 seconds.\"\n",
    "    total_cpu_time = line.split()[-4:]\n",
    "    total_cpu_time = [int(x) for x in total_cpu_time if x.isdigit()]\n",
    "    assert len(total_cpu_time) == 4\n",
    "    total_cpu_time = total_cpu_time[0]*24*60 + total_cpu_time[1]*60 + total_cpu_time[2] + total_cpu_time[3]/60\n",
    "    \n",
    "    data[\"scf_cycles\"] = scf_cycles\n",
    "    data[\"scf_cpu_times\"] = scf_cpu_times\n",
    "    data[\"total_cpu_time\"] = total_cpu_time\n",
    "    return data"
   ]
  },
  {
   "cell_type": "code",
   "execution_count": 40,
   "metadata": {},
   "outputs": [
    {
     "ename": "KeyError",
     "evalue": "'scf energies'",
     "output_type": "error",
     "traceback": [
      "\u001b[0;31m---------------------------------------------------------------------------\u001b[0m",
      "\u001b[0;31mKeyError\u001b[0m                                  Traceback (most recent call last)",
      "Cell \u001b[0;32mIn[40], line 1\u001b[0m\n\u001b[0;32m----> 1\u001b[0m data \u001b[38;5;241m=\u001b[39m \u001b[43mread_log\u001b[49m\u001b[43m(\u001b[49m\u001b[43mjson_file\u001b[49m\u001b[43m,\u001b[49m\u001b[43m \u001b[49m\u001b[43mlog_file\u001b[49m\u001b[43m)\u001b[49m\n",
      "Cell \u001b[0;32mIn[39], line 10\u001b[0m, in \u001b[0;36mread_log\u001b[0;34m(json_file, log_file)\u001b[0m\n\u001b[1;32m      8\u001b[0m \u001b[38;5;66;03m# check json file\u001b[39;00m\n\u001b[1;32m      9\u001b[0m opt_done \u001b[38;5;241m=\u001b[39m josn_data[\u001b[38;5;124m\"\u001b[39m\u001b[38;5;124moptimization\u001b[39m\u001b[38;5;124m\"\u001b[39m][\u001b[38;5;124m\"\u001b[39m\u001b[38;5;124mdone\u001b[39m\u001b[38;5;124m\"\u001b[39m]\n\u001b[0;32m---> 10\u001b[0m scf_energies \u001b[38;5;241m=\u001b[39m \u001b[43mjosn_data\u001b[49m\u001b[43m[\u001b[49m\u001b[38;5;124;43m\"\u001b[39;49m\u001b[38;5;124;43moptimization\u001b[39;49m\u001b[38;5;124;43m\"\u001b[39;49m\u001b[43m]\u001b[49m\u001b[43m[\u001b[49m\u001b[38;5;124;43m\"\u001b[39;49m\u001b[38;5;124;43mscf energies\u001b[39;49m\u001b[38;5;124;43m\"\u001b[39;49m\u001b[43m]\u001b[49m\n\u001b[1;32m     11\u001b[0m xyz \u001b[38;5;241m=\u001b[39m np\u001b[38;5;241m.\u001b[39marray(josn_data[\u001b[38;5;124m\"\u001b[39m\u001b[38;5;124matoms\u001b[39m\u001b[38;5;124m\"\u001b[39m][\u001b[38;5;124m\"\u001b[39m\u001b[38;5;124mcoords\u001b[39m\u001b[38;5;124m\"\u001b[39m][\u001b[38;5;124m\"\u001b[39m\u001b[38;5;124m3d\u001b[39m\u001b[38;5;124m\"\u001b[39m])\u001b[38;5;241m.\u001b[39mreshape(\u001b[38;5;241m-\u001b[39m\u001b[38;5;241m1\u001b[39m, \u001b[38;5;241m3\u001b[39m)\n\u001b[1;32m     12\u001b[0m symb \u001b[38;5;241m=\u001b[39m josn_data[\u001b[38;5;124m\"\u001b[39m\u001b[38;5;124matoms\u001b[39m\u001b[38;5;124m\"\u001b[39m][\u001b[38;5;124m\"\u001b[39m\u001b[38;5;124melements\u001b[39m\u001b[38;5;124m\"\u001b[39m][\u001b[38;5;124m\"\u001b[39m\u001b[38;5;124mnumber\u001b[39m\u001b[38;5;124m\"\u001b[39m]\n",
      "\u001b[0;31mKeyError\u001b[0m: 'scf energies'"
     ]
    }
   ],
   "source": [
    "data = read_log(json_file, log_file)"
   ]
  },
  {
   "cell_type": "code",
   "execution_count": 36,
   "metadata": {},
   "outputs": [
    {
     "data": {
      "text/plain": [
       "<Popen: returncode: None args: ['/home/ksh/.conda/envs/NeuralOpt/bin/python'...>"
      ]
     },
     "execution_count": 36,
     "metadata": {},
     "output_type": "execute_result"
    },
    {
     "name": "stderr",
     "output_type": "stream",
     "text": [
      "usage: ase [-h] [--version] [-T]\n",
      "           {help,info,test,gui,db,run,band-structure,build,dimensionality,eos,ulm,find,nebplot,nomad-upload,nomad-get,convert,reciprocal,completion,diff,exec}\n",
      "           ...\n",
      "ase: error: TclError: no display name and no $DISPLAY environment variable\n",
      "To get a full traceback, use: ase -T gui ...\n"
     ]
    }
   ],
   "source": []
  }
 ],
 "metadata": {
  "kernelspec": {
   "display_name": "NeuralOpt",
   "language": "python",
   "name": "python3"
  },
  "language_info": {
   "codemirror_mode": {
    "name": "ipython",
    "version": 3
   },
   "file_extension": ".py",
   "mimetype": "text/x-python",
   "name": "python",
   "nbconvert_exporter": "python",
   "pygments_lexer": "ipython3",
   "version": "3.9.16"
  }
 },
 "nbformat": 4,
 "nbformat_minor": 2
}
